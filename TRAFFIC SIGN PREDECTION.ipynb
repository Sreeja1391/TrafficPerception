{
 "cells": [
  {
   "cell_type": "code",
   "execution_count": null,
   "metadata": {},
   "outputs": [],
   "source": [
    "import os\n",
    "import numpy as np\n",
    "import pandas as pd\n",
    "import matplotlib.pyplot as plt\n",
    "from PIL import Image\n",
    "import tensorflow as tf\n",
    "from sklearn.model_selection import train_test_split\n",
    "from keras.utils import to_categorical\n",
    "from keras.models import Sequential\n",
    "X = []\n",
    "Y = []\n",
    "total_class = 43\n",
    "cur_directory = os.getcwd()"
   ]
  },
  {
   "cell_type": "code",
   "execution_count": null,
   "metadata": {},
   "outputs": [],
   "source": [
    "from keras.layers import Conv2D, MaxPool2D, Dense, Flatten, Dropout"
   ]
  },
  {
   "cell_type": "code",
   "execution_count": null,
   "metadata": {},
   "outputs": [],
   "source": [
    "for index in range(total_class):\n",
    "    path = os.path.join(cur_directory,'train',str(index))\n",
    "    images = os.listdir(path)\n",
    "    for img in images:\n",
    "        try:\n",
    "            image = Image.open(path + '\\\\'+ img)\n",
    "            image = image.resize((30,30))\n",
    "            image = np.array(image)\n",
    "            X.append(image)\n",
    "            Y.append(index)\n",
    "        except:\n",
    "            print('Error loading image')"
   ]
  },
  {
   "cell_type": "code",
   "execution_count": null,
   "metadata": {},
   "outputs": [],
   "source": [
    "X = np.array(X)\n",
    "Y = np.array(Y)\n",
    "print(X.shape, Y.shape)"
   ]
  },
  {
   "cell_type": "code",
   "execution_count": null,
   "metadata": {},
   "outputs": [],
   "source": [
    "x_train, x_test, y_train, y_test = train_test_split(X, Y, test_size=0.2, random_state=42)\n",
    "print('Shape of x_train: ', x_train.shape, ' and y_train:',y_train.shape)\n",
    "print('Shape of x_test: ', x_test.shape, ' and y_test:',y_test.shape)\n",
    "#one hot encoding the labels\n",
    "y_train = to_categorical(y_train, 43)\n",
    "y_test = to_categorical(y_test, 43)"
   ]
  },
  {
   "cell_type": "code",
   "execution_count": null,
   "metadata": {},
   "outputs": [],
   "source": [
    "model = Sequential()\n",
    "model.add(Conv2D(filters=32, kernel_size=(5,5), activation='relu', input_shape=x_train.shape[1:]))\n",
    "model.add(Conv2D(filters=32, kernel_size=(5,5), activation='relu'))\n",
    "model.add(MaxPool2D(pool_size=(2, 2)))\n",
    "model.add(Dropout(rate=0.25))\n",
    "model.add(Conv2D(filters=64, kernel_size=(3, 3), activation='relu'))\n",
    "model.add(Conv2D(filters=64, kernel_size=(3, 3), activation='relu'))\n",
    "model.add(MaxPool2D(pool_size=(2, 2)))\n",
    "model.add(Dropout(rate=0.25))\n",
    "model.add(Flatten())\n",
    "model.add(Dense(256, activation='relu'))\n",
    "model.add(Dropout(rate=0.5))\n",
    "model.add(Dense(43, activation='softmax'))\n",
    "model.compile(loss='categorical_crossentropy', optimizer='adam', metrics=['accuracy'])"
   ]
  },
  {
   "cell_type": "code",
   "execution_count": null,
   "metadata": {},
   "outputs": [],
   "source": [
    "epochs = 15\n",
    "history = model.fit(x_train, y_train, batch_size=64, epochs=epochs,validation_data=(x_test, y_test))\n",
    "model.save('traffic_recognition.h5')"
   ]
  },
  {
   "cell_type": "code",
   "execution_count": null,
   "metadata": {},
   "outputs": [],
   "source": [
    "plt.figure(0)\n",
    "plt.plot(history.history['accuracy'], label='training accuracy')\n",
    "plt.plot(history.history['val_accuracy'], label='val accuracy')\n",
    "plt.title('Accuracy')\n",
    "plt.xlabel('epochs')\n",
    "plt.ylabel('accuracy')\n",
    "plt.legend()\n",
    "plt.figure(1)\n",
    "plt.plot(history.history['loss'], label='training loss')\n",
    "plt.plot(history.history['val_loss'], label='val loss')\n",
    "plt.title('Loss')\n",
    "plt.xlabel('epochs')\n",
    "plt.ylabel('loss')\n",
    "plt.legend()"
   ]
  },
  {
   "cell_type": "code",
   "execution_count": null,
   "metadata": {},
   "outputs": [],
   "source": [
    "from sklearn.metrics import accuracy_score\n",
    "import pandas as pd\n",
    "y_test = pd.read_csv('Test.csv')\n",
    "labels = y_test['ClassId'].values\n",
    "img_paths = y_test['Path'].values\n",
    "test_data=[]\n",
    "for path in img_paths:\n",
    "    image = Image.open(path)\n",
    "    image = image.resize((30,30))\n",
    "    test_data.append(np.array(image))\n",
    "test_data = np.array(test_data)\n",
    "pred = model.predict_classes(test_data)\n",
    "from sklearn.metrics import accuracy_score\n",
    "accuracy_score(labels, pred)"
   ]
  },
  {
   "cell_type": "code",
   "execution_count": 1,
   "metadata": {},
   "outputs": [],
   "source": [
    "import tkinter as tk\n",
    "from tkinter import filedialog\n",
    "from tkinter import *\n",
    "from PIL import ImageTk, Image\n",
    "import numpy\n",
    "#load the trained model to classify sign\n",
    "from keras.models import load_model\n",
    "model = load_model('traffic_recognition.h5')\n",
    "#dictionary to label all traffic signs class\n",
    "classes = { 1:'Speed limit (20km/h)',\n",
    "    2:'Speed limit (30km/h)',\n",
    "    3:'Speed limit (50km/h)',\n",
    "    4:'Speed limit (60km/h)',\n",
    "    5:'Speed limit (70km/h)',\n",
    "    6:'Speed limit (80km/h)',\n",
    "    7:'End of speed limit (80km/h)',\n",
    "    8:'Speed limit (100km/h)',\n",
    "    9:'Speed limit (120km/h)',\n",
    "    10:'No passing',\n",
    "    11:'No passing veh over 3.5 tons',\n",
    "    12:'Right-of-way at intersection',\n",
    "    13:'Priority road',\n",
    "    14:'Yield',\n",
    "    15:'Stop',\n",
    "    16:'No vehicles',\n",
    "    17:'Veh > 3.5 tons prohibited',\n",
    "    18:'No entry',\n",
    "    19:'General caution',\n",
    "    20:'Dangerous curve left',\n",
    "    21:'Dangerous curve right',\n",
    "    22:'Double curve',\n",
    "    23:'Bumpy road',\n",
    "    24:'Slippery road',\n",
    "    25:'Road narrows on the right',\n",
    "    26:'Road work',\n",
    "    27:'Traffic signals',\n",
    "    28:'Pedestrians',\n",
    "    29:'Children crossing',\n",
    "    30:'Bicycles crossing',\n",
    "    31:'Beware of ice/snow',\n",
    "    32:'Wild animals crossing',\n",
    "    33:'End speed + passing limits',\n",
    "    34:'Turn right ahead',\n",
    "    35:'Turn left ahead',\n",
    "    36:'Ahead only',\n",
    "    37:'Go straight or right',\n",
    "    38:'Go straight or left',\n",
    "    39:'Keep right',\n",
    "    40:'Keep left',\n",
    "    41:'Roundabout mandatory',\n",
    "    42:'End of no passing',\n",
    "    43:'End no passing veh > 3.5 tons' }"
   ]
  },
  {
   "cell_type": "code",
   "execution_count": 2,
   "metadata": {},
   "outputs": [],
   "source": [
    "def classify(file_path):\n",
    "    image = Image.open(file_path)\n",
    "    image = image.resize((30,30))\n",
    "    image = numpy.expand_dims(image, axis=0)\n",
    "    image = numpy.array(image)\n",
    "    pred = model.predict_classes([image])[0]\n",
    "    sign = classes[pred+1]\n",
    "    print(sign)\n",
    "    result.configure(text=sign)"
   ]
  },
  {
   "cell_type": "code",
   "execution_count": 3,
   "metadata": {},
   "outputs": [],
   "source": [
    "def show_classify_btn(file_path):\n",
    "    classify_b=Button(top,text='Classify Image',command=lambda: classify(file_path),padx=10,pady=5)\n",
    "    classify_b.configure(bg='#364156', fg='white',font=('arial',10,'bold'))\n",
    "    classify_b.place(relx=0.79,rely=0.46)"
   ]
  },
  {
   "cell_type": "code",
   "execution_count": 4,
   "metadata": {},
   "outputs": [],
   "source": [
    "def upload_image():\n",
    "  try:\n",
    "    file_path=filedialog.askopenfilename()\n",
    "    uploaded=Image.open(file_path)\n",
    "    uploaded.thumbnail(((top.winfo_width()/2.25),(top.winfo_height()/2.25)))\n",
    "    im=ImageTk.PhotoImage(uploaded)\n",
    "    sign_image.configure(image=im)\n",
    "    sign_image.image=im\n",
    "    result.configure(text='')\n",
    "    show_classify_btn(file_path)\n",
    "  except:\n",
    "    pass"
   ]
  },
  {
   "cell_type": "code",
   "execution_count": 5,
   "metadata": {},
   "outputs": [
    {
     "name": "stdout",
     "output_type": "stream",
     "text": [
      "WARNING:tensorflow:From <ipython-input-2-1dbd93b6046c>:6: Sequential.predict_classes (from tensorflow.python.keras.engine.sequential) is deprecated and will be removed after 2021-01-01.\n",
      "Instructions for updating:\n",
      "Please use instead:* `np.argmax(model.predict(x), axis=-1)`,   if your model does multi-class classification   (e.g. if it uses a `softmax` last-layer activation).* `(model.predict(x) > 0.5).astype(\"int32\")`,   if your model does binary classification   (e.g. if it uses a `sigmoid` last-layer activation).\n",
      "Speed limit (30km/h)\n"
     ]
    }
   ],
   "source": [
    "if __name__=='__main__':\n",
    "  #initialise GUI\n",
    "  top=tk.Tk()\n",
    "  top.geometry('800x600')\n",
    "  top.title('Traffic sign recognition')\n",
    "  top.configure(bg='#f9f6f7')\n",
    "  heading = Label(top, text='Traffic sign recognition',pady=20, font=('arial',20,'bold'))\n",
    "  heading.configure(background='#f9f6f7',fg='#364156')\n",
    "  heading.pack()\n",
    "  result=Label(top, font=('arial',15,'bold'))\n",
    "  result.configure(fg='#011638',bg='#f9f6f7')\n",
    "  sign_image = Label(top)\n",
    "  upload=Button(top,text='Upload an image',command=upload_image,padx=10,pady=5)\n",
    "  upload.configure(background='#364156', fg='white',font=('arial',10,'bold'))\n",
    "  upload.pack(side=BOTTOM,pady=50)\n",
    "  sign_image.pack(side=BOTTOM,expand=True)\n",
    "  result.pack(side=BOTTOM,expand=True)\n",
    "  top.mainloop()"
   ]
  },
  {
   "cell_type": "code",
   "execution_count": null,
   "metadata": {},
   "outputs": [],
   "source": []
  }
 ],
 "metadata": {
  "kernelspec": {
   "display_name": "Python 3",
   "language": "python",
   "name": "python3"
  },
  "language_info": {
   "codemirror_mode": {
    "name": "ipython",
    "version": 3
   },
   "file_extension": ".py",
   "mimetype": "text/x-python",
   "name": "python",
   "nbconvert_exporter": "python",
   "pygments_lexer": "ipython3",
   "version": "3.8.8"
  }
 },
 "nbformat": 4,
 "nbformat_minor": 2
}
